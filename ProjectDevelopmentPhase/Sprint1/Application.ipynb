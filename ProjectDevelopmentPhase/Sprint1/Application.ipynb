{
 "cells": [
  {
   "cell_type": "code",
   "execution_count": 1,
   "id": "f9c5950d",
   "metadata": {},
   "outputs": [],
   "source": [
    "import numpy as np\n",
    "import cv2\n",
    "import os\n",
    "from keras.models import load_model\n",
    "from flask import Flask, render_template, Response\n",
    "import tensorflow as tf\n",
    "from gtts import gTTS\n",
    "from skimage.transform import resize"
   ]
  },
  {
   "cell_type": "code",
   "execution_count": 2,
   "id": "d3cda4f9",
   "metadata": {},
   "outputs": [],
   "source": [
    "global graph\n",
    "global writer"
   ]
  },
  {
   "cell_type": "code",
   "execution_count": 4,
   "id": "c0bf8508",
   "metadata": {},
   "outputs": [
    {
     "name": "stdout",
     "output_type": "stream",
     "text": [
      "[INFO] accessing video stream...\n"
     ]
    }
   ],
   "source": [
    "graph=tf.compat.v1.get_default_graph()\n",
    "writer=None\n",
    "with graph.as_default():\n",
    "    model = load_model('weight.h5')\n",
    "vals=['A','B','C','D','E','F','G','H','I']\n",
    "print(\"[INFO] accessing video stream...\")\n",
    "cap=cv2.VideoCapture(0)\n",
    "pred=\"\""
   ]
  },
  {
   "cell_type": "code",
   "execution_count": 5,
   "id": "27e05cb3",
   "metadata": {},
   "outputs": [],
   "source": [
    "def detect(frame):\n",
    "    cv2.imshow('frame', frame)\n",
    "    img = resize(frame, (64,64,1))\n",
    "    img = np.expand_dims(img, axis=0)\n",
    "    if np.max(img) > 1:\n",
    "        img = img/255\n",
    "    with graph.as_default():\n",
    "        prediction = model.predict(img)\n",
    "    if len(np.where(prediction[0]>=0.5)[0]) > 0:\n",
    "#         pred=vals[np.where(prediction[0]>=0.5)[0][0]]\n",
    "#         print(pred)\n",
    "#         return pred\n",
    "        pass\n",
    "    else:\n",
    "        print(\"No Gesture is being shown\")"
   ]
  },
  {
   "cell_type": "code",
   "execution_count": 6,
   "id": "e471c54b",
   "metadata": {},
   "outputs": [],
   "source": [
    "def gen():\n",
    "    while cap.isOpened():\n",
    "        ret, frame = cap.read()\n",
    "        if ret:\n",
    "            detect(frame)\n",
    "            if cv2.waitKey(1) == ord('q'):\n",
    "                break\n",
    "        else:\n",
    "            print(\"Can't receive frame (stream end?). Exiting ...\")\n",
    "    cap.release()\n",
    "    cv2.destroyAllWindows()"
   ]
  },
  {
   "cell_type": "code",
   "execution_count": 9,
   "id": "fa06ad94",
   "metadata": {},
   "outputs": [],
   "source": [
    "# app=Flask(__name__)"
   ]
  },
  {
   "cell_type": "code",
   "execution_count": 10,
   "id": "6c57c25d",
   "metadata": {},
   "outputs": [],
   "source": [
    "# @app.route('/')\n",
    "# def index():\n",
    "#     return render_template('index.html')"
   ]
  },
  {
   "cell_type": "code",
   "execution_count": 11,
   "id": "491f800e",
   "metadata": {},
   "outputs": [],
   "source": [
    "# @app.route('/video_feed')\n",
    "# def video_feed():\n",
    "#     return Response(gen(), mimetype='multipart/x-mixed-replace; boundary=frame')"
   ]
  },
  {
   "cell_type": "code",
   "execution_count": 12,
   "id": "3b54effd",
   "metadata": {},
   "outputs": [],
   "source": [
    "# app.run(host='0.0.0.0',debug=True)"
   ]
  },
  {
   "cell_type": "code",
   "execution_count": null,
   "id": "3309f204",
   "metadata": {},
   "outputs": [],
   "source": []
  }
 ],
 "metadata": {
  "kernelspec": {
   "display_name": "Python 3 (ipykernel)",
   "language": "python",
   "name": "python3"
  },
  "language_info": {
   "codemirror_mode": {
    "name": "ipython",
    "version": 3
   },
   "file_extension": ".py",
   "mimetype": "text/x-python",
   "name": "python",
   "nbconvert_exporter": "python",
   "pygments_lexer": "ipython3",
   "version": "3.8.13"
  },
  "vscode": {
   "interpreter": {
    "hash": "94b06c7f1234a43955a0daeb3b41026d5f67c348d7d93406f6a02ba3227d6863"
   }
  }
 },
 "nbformat": 4,
 "nbformat_minor": 5
}
