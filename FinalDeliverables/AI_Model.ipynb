{
 "cells": [
  {
   "cell_type": "code",
   "execution_count": null,
   "id": "nbf0wRcEE6_z",
   "metadata": {
    "colab": {
     "base_uri": "https://localhost:8080/"
    },
    "id": "nbf0wRcEE6_z",
    "outputId": "dca5d599-fb57-43bd-c728-6d7a65e5ccdb"
   },
   "outputs": [
    {
     "name": "stdout",
     "output_type": "stream",
     "text": [
      "Mounted at /content/gdrive/\n"
     ]
    }
   ],
   "source": [
    "from google.colab import drive\n",
    "drive.mount('/content/gdrive/')"
   ]
  },
  {
   "cell_type": "code",
   "execution_count": null,
   "id": "d4ac68be",
   "metadata": {
    "id": "d4ac68be"
   },
   "outputs": [],
   "source": [
    "from keras.preprocessing.image import ImageDataGenerator\n",
    "from keras.models import Sequential\n",
    "from keras.layers import Dense\n",
    "from keras.layers import Convolution2D\n",
    "from keras.layers import MaxPooling2D\n",
    "from keras.layers import Dropout\n",
    "from keras.layers import Flatten\n",
    "from keras.layers import BatchNormalization\n",
    "from keras.callbacks import LearningRateScheduler, ReduceLROnPlateau\n",
    "from keras.models import load_model\n",
    "from keras.optimizers import Adam\n",
    "from sklearn.metrics import classification_report, confusion_matrix, ConfusionMatrixDisplay\n",
    "from skimage.transform import resize, rotate\n",
    "import numpy as np\n",
    "import cv2\n",
    "import seaborn as sns\n",
    "import pandas as pd\n",
    "import matplotlib.pyplot as plt\n",
    "from google.colab.patches import cv2_imshow"
   ]
  },
  {
   "cell_type": "code",
   "execution_count": null,
   "id": "4bb112fe",
   "metadata": {
    "id": "4bb112fe"
   },
   "outputs": [],
   "source": [
    "train_datagen = ImageDataGenerator(\n",
    "    rescale=1./255,\n",
    "    shear_range=0.1,\n",
    "    zoom_range=0.1,\n",
    "    rotation_range=10,\n",
    "    width_shift_range=0.1,\n",
    "    height_shift_range=0.1,\n",
    "    validation_split=0.2,\n",
    "    )\n",
    "# test_datagen = ImageDataGenerator(rescale=1./255)"
   ]
  },
  {
   "cell_type": "code",
   "execution_count": null,
   "id": "123d5588",
   "metadata": {
    "colab": {
     "base_uri": "https://localhost:8080/"
    },
    "id": "123d5588",
    "outputId": "67556459-49d7-41eb-9491-77a45db9d3ed",
    "scrolled": false
   },
   "outputs": [
    {
     "name": "stdout",
     "output_type": "stream",
     "text": [
      "Found 22413 images belonging to 9 classes.\n",
      "Found 5598 images belonging to 9 classes.\n"
     ]
    }
   ],
   "source": [
    "x_train = train_datagen.flow_from_directory(\n",
    "    'gdrive/MyDrive/Dataset5',\n",
    "    target_size=(28,28),\n",
    "    batch_size=64,\n",
    "    # save_to_dir='Dataset4/aug_set',\n",
    "    class_mode='categorical',\n",
    "    color_mode=\"grayscale\",\n",
    "    subset=\"training\",\n",
    "    )\n",
    "x_test = train_datagen.flow_from_directory(\n",
    "    'gdrive/MyDrive/Dataset5',\n",
    "    target_size=(28,28),\n",
    "    batch_size=64,\n",
    "    class_mode='categorical',\n",
    "    color_mode=\"grayscale\",\n",
    "    subset=\"validation\",\n",
    "    )\n",
    "# x_test = train_datagen.flow_from_directory('Dataset/test_set', target_size=(64,64), batch_size=200, class_mode='categorical', color_mode=\"grayscale\")"
   ]
  },
  {
   "cell_type": "code",
   "execution_count": null,
   "id": "211e6e43",
   "metadata": {
    "id": "211e6e43"
   },
   "outputs": [],
   "source": [
    "model = Sequential()"
   ]
  },
  {
   "cell_type": "code",
   "execution_count": null,
   "id": "tD3seHMDW_BS",
   "metadata": {
    "id": "tD3seHMDW_BS"
   },
   "outputs": [],
   "source": [
    "model.add(Convolution2D(75, (3,3) , strides = 1 , padding = 'same' , activation = 'relu' , input_shape = (28,28,1)))\n",
    "model.add(BatchNormalization())\n",
    "model.add(MaxPooling2D((2,2) , strides = 2 , padding = 'same'))\n",
    "model.add(Convolution2D(50 , (3,3) , strides = 1 , padding = 'same' , activation = 'relu'))\n",
    "model.add(Dropout(0.2))\n",
    "model.add(BatchNormalization())\n",
    "model.add(MaxPooling2D((2,2) , strides = 2 , padding = 'same'))\n",
    "model.add(Convolution2D(25 , (3,3) , strides = 1 , padding = 'same' , activation = 'relu'))\n",
    "model.add(BatchNormalization())\n",
    "model.add(MaxPooling2D((2,2) , strides = 2 , padding = 'same'))\n",
    "model.add(Flatten())\n",
    "model.add(Dense(units = 512, activation = 'relu'))\n",
    "model.add(Dropout(0.6))\n",
    "model.add(Dense(units = 9 , activation = 'softmax'))"
   ]
  },
  {
   "cell_type": "code",
   "execution_count": null,
   "id": "ObkGENlnGKxb",
   "metadata": {
    "colab": {
     "base_uri": "https://localhost:8080/"
    },
    "id": "ObkGENlnGKxb",
    "outputId": "3ddd9865-f741-4917-c658-270bf7476541"
   },
   "outputs": [
    {
     "name": "stdout",
     "output_type": "stream",
     "text": [
      "Model: \"sequential\"\n",
      "_________________________________________________________________\n",
      " Layer (type)                Output Shape              Param #   \n",
      "=================================================================\n",
      " conv2d (Conv2D)             (None, 28, 28, 75)        750       \n",
      "                                                                 \n",
      " batch_normalization (BatchN  (None, 28, 28, 75)       300       \n",
      " ormalization)                                                   \n",
      "                                                                 \n",
      " max_pooling2d (MaxPooling2D  (None, 14, 14, 75)       0         \n",
      " )                                                               \n",
      "                                                                 \n",
      " conv2d_1 (Conv2D)           (None, 14, 14, 50)        33800     \n",
      "                                                                 \n",
      " dropout (Dropout)           (None, 14, 14, 50)        0         \n",
      "                                                                 \n",
      " batch_normalization_1 (Batc  (None, 14, 14, 50)       200       \n",
      " hNormalization)                                                 \n",
      "                                                                 \n",
      " max_pooling2d_1 (MaxPooling  (None, 7, 7, 50)         0         \n",
      " 2D)                                                             \n",
      "                                                                 \n",
      " conv2d_2 (Conv2D)           (None, 7, 7, 25)          11275     \n",
      "                                                                 \n",
      " batch_normalization_2 (Batc  (None, 7, 7, 25)         100       \n",
      " hNormalization)                                                 \n",
      "                                                                 \n",
      " max_pooling2d_2 (MaxPooling  (None, 4, 4, 25)         0         \n",
      " 2D)                                                             \n",
      "                                                                 \n",
      " flatten (Flatten)           (None, 400)               0         \n",
      "                                                                 \n",
      " dense (Dense)               (None, 512)               205312    \n",
      "                                                                 \n",
      " dropout_1 (Dropout)         (None, 512)               0         \n",
      "                                                                 \n",
      " dense_1 (Dense)             (None, 9)                 4617      \n",
      "                                                                 \n",
      "=================================================================\n",
      "Total params: 256,354\n",
      "Trainable params: 256,054\n",
      "Non-trainable params: 300\n",
      "_________________________________________________________________\n"
     ]
    }
   ],
   "source": [
    "model.summary()"
   ]
  },
  {
   "cell_type": "code",
   "execution_count": null,
   "id": "226e851b",
   "metadata": {
    "id": "226e851b"
   },
   "outputs": [],
   "source": [
    "model.compile(loss='categorical_crossentropy', optimizer=Adam(learning_rate=0.01), metrics=['accuracy'])"
   ]
  },
  {
   "cell_type": "code",
   "execution_count": null,
   "id": "GqXNthNCVWTC",
   "metadata": {
    "id": "GqXNthNCVWTC"
   },
   "outputs": [],
   "source": [
    "learning_rate_reduction = ReduceLROnPlateau(monitor='val_accuracy', patience = 2, verbose=1,factor=0.5, min_lr=0.00001)"
   ]
  },
  {
   "cell_type": "code",
   "execution_count": null,
   "id": "f3fOugF02lOX",
   "metadata": {
    "colab": {
     "base_uri": "https://localhost:8080/"
    },
    "id": "f3fOugF02lOX",
    "outputId": "c11399aa-f28f-4f04-da3e-ba8ab30a20e3"
   },
   "outputs": [
    {
     "name": "stdout",
     "output_type": "stream",
     "text": [
      "Epoch 1/50\n",
      "351/351 [==============================] - 7399s 21s/step - loss: 1.6879 - accuracy: 0.3894 - val_loss: 8.9837 - val_accuracy: 0.1238 - lr: 0.0100\n",
      "Epoch 2/50\n",
      "351/351 [==============================] - 187s 534ms/step - loss: 1.0259 - accuracy: 0.6152 - val_loss: 1.4851 - val_accuracy: 0.4360 - lr: 0.0100\n",
      "Epoch 3/50\n",
      "351/351 [==============================] - 184s 524ms/step - loss: 0.8282 - accuracy: 0.6927 - val_loss: 1.5657 - val_accuracy: 0.4477 - lr: 0.0100\n",
      "Epoch 4/50\n",
      "351/351 [==============================] - 184s 522ms/step - loss: 0.7172 - accuracy: 0.7361 - val_loss: 1.3837 - val_accuracy: 0.5046 - lr: 0.0100\n",
      "Epoch 5/50\n",
      "351/351 [==============================] - 185s 525ms/step - loss: 0.6563 - accuracy: 0.7660 - val_loss: 1.6591 - val_accuracy: 0.5063 - lr: 0.0100\n",
      "Epoch 6/50\n",
      "351/351 [==============================] - 188s 535ms/step - loss: 0.6127 - accuracy: 0.7829 - val_loss: 1.8612 - val_accuracy: 0.4325 - lr: 0.0100\n",
      "Epoch 7/50\n",
      "351/351 [==============================] - ETA: 0s - loss: 0.5646 - accuracy: 0.8001\n",
      "Epoch 7: ReduceLROnPlateau reducing learning rate to 0.004999999888241291.\n",
      "351/351 [==============================] - 186s 529ms/step - loss: 0.5646 - accuracy: 0.8001 - val_loss: 1.9785 - val_accuracy: 0.4348 - lr: 0.0100\n",
      "Epoch 8/50\n",
      "351/351 [==============================] - 186s 528ms/step - loss: 0.4660 - accuracy: 0.8338 - val_loss: 1.7217 - val_accuracy: 0.5014 - lr: 0.0050\n",
      "Epoch 9/50\n",
      "351/351 [==============================] - 187s 531ms/step - loss: 0.4246 - accuracy: 0.8516 - val_loss: 1.5440 - val_accuracy: 0.5373 - lr: 0.0050\n",
      "Epoch 10/50\n",
      "351/351 [==============================] - 188s 536ms/step - loss: 0.3990 - accuracy: 0.8574 - val_loss: 1.9655 - val_accuracy: 0.4837 - lr: 0.0050\n",
      "Epoch 11/50\n",
      "351/351 [==============================] - ETA: 0s - loss: 0.3833 - accuracy: 0.8672\n",
      "Epoch 11: ReduceLROnPlateau reducing learning rate to 0.0024999999441206455.\n",
      "351/351 [==============================] - 186s 530ms/step - loss: 0.3833 - accuracy: 0.8672 - val_loss: 1.8661 - val_accuracy: 0.5023 - lr: 0.0050\n",
      "Epoch 12/50\n",
      "351/351 [==============================] - 184s 524ms/step - loss: 0.3443 - accuracy: 0.8797 - val_loss: 1.3569 - val_accuracy: 0.5825 - lr: 0.0025\n",
      "Epoch 13/50\n",
      "351/351 [==============================] - 185s 526ms/step - loss: 0.3136 - accuracy: 0.8911 - val_loss: 1.6918 - val_accuracy: 0.5557 - lr: 0.0025\n",
      "Epoch 14/50\n",
      "351/351 [==============================] - 185s 527ms/step - loss: 0.3060 - accuracy: 0.8966 - val_loss: 1.3751 - val_accuracy: 0.6088 - lr: 0.0025\n",
      "Epoch 15/50\n",
      "351/351 [==============================] - 184s 525ms/step - loss: 0.2926 - accuracy: 0.9002 - val_loss: 1.7368 - val_accuracy: 0.5559 - lr: 0.0025\n",
      "Epoch 16/50\n",
      "351/351 [==============================] - 184s 523ms/step - loss: 0.2901 - accuracy: 0.9043 - val_loss: 1.2901 - val_accuracy: 0.6208 - lr: 0.0025\n",
      "Epoch 17/50\n",
      "351/351 [==============================] - 184s 524ms/step - loss: 0.2798 - accuracy: 0.9052 - val_loss: 2.5780 - val_accuracy: 0.4632 - lr: 0.0025\n",
      "Epoch 18/50\n",
      "351/351 [==============================] - ETA: 0s - loss: 0.2739 - accuracy: 0.9095\n",
      "Epoch 18: ReduceLROnPlateau reducing learning rate to 0.0012499999720603228.\n",
      "351/351 [==============================] - 183s 521ms/step - loss: 0.2739 - accuracy: 0.9095 - val_loss: 1.5548 - val_accuracy: 0.5857 - lr: 0.0025\n",
      "Epoch 19/50\n",
      "351/351 [==============================] - 181s 515ms/step - loss: 0.2585 - accuracy: 0.9125 - val_loss: 1.4214 - val_accuracy: 0.6075 - lr: 0.0012\n",
      "Epoch 20/50\n",
      "351/351 [==============================] - ETA: 0s - loss: 0.2515 - accuracy: 0.9148\n",
      "Epoch 20: ReduceLROnPlateau reducing learning rate to 0.0006249999860301614.\n",
      "351/351 [==============================] - 186s 530ms/step - loss: 0.2515 - accuracy: 0.9148 - val_loss: 1.3609 - val_accuracy: 0.6138 - lr: 0.0012\n",
      "Epoch 21/50\n",
      "351/351 [==============================] - 187s 532ms/step - loss: 0.2361 - accuracy: 0.9209 - val_loss: 1.2946 - val_accuracy: 0.6281 - lr: 6.2500e-04\n",
      "Epoch 22/50\n",
      "351/351 [==============================] - 189s 537ms/step - loss: 0.2237 - accuracy: 0.9241 - val_loss: 1.3950 - val_accuracy: 0.6290 - lr: 6.2500e-04\n",
      "Epoch 23/50\n",
      "351/351 [==============================] - 189s 539ms/step - loss: 0.2253 - accuracy: 0.9248 - val_loss: 1.4318 - val_accuracy: 0.6168 - lr: 6.2500e-04\n",
      "Epoch 24/50\n",
      "351/351 [==============================] - ETA: 0s - loss: 0.2224 - accuracy: 0.9241\n",
      "Epoch 24: ReduceLROnPlateau reducing learning rate to 0.0003124999930150807.\n",
      "351/351 [==============================] - 182s 519ms/step - loss: 0.2224 - accuracy: 0.9241 - val_loss: 1.4003 - val_accuracy: 0.6147 - lr: 6.2500e-04\n",
      "Epoch 25/50\n",
      "351/351 [==============================] - 182s 517ms/step - loss: 0.2167 - accuracy: 0.9246 - val_loss: 1.3784 - val_accuracy: 0.6250 - lr: 3.1250e-04\n",
      "Epoch 26/50\n",
      "351/351 [==============================] - ETA: 0s - loss: 0.2090 - accuracy: 0.9304\n",
      "Epoch 26: ReduceLROnPlateau reducing learning rate to 0.00015624999650754035.\n",
      "351/351 [==============================] - 182s 519ms/step - loss: 0.2090 - accuracy: 0.9304 - val_loss: 1.3824 - val_accuracy: 0.6284 - lr: 3.1250e-04\n",
      "Epoch 27/50\n",
      "351/351 [==============================] - 181s 517ms/step - loss: 0.2152 - accuracy: 0.9285 - val_loss: 1.3976 - val_accuracy: 0.6208 - lr: 1.5625e-04\n",
      "Epoch 28/50\n",
      "351/351 [==============================] - ETA: 0s - loss: 0.2064 - accuracy: 0.9319\n",
      "Epoch 28: ReduceLROnPlateau reducing learning rate to 7.812499825377017e-05.\n",
      "351/351 [==============================] - 181s 516ms/step - loss: 0.2064 - accuracy: 0.9319 - val_loss: 1.3947 - val_accuracy: 0.6158 - lr: 1.5625e-04\n",
      "Epoch 29/50\n",
      "351/351 [==============================] - 181s 514ms/step - loss: 0.2033 - accuracy: 0.9322 - val_loss: 1.3441 - val_accuracy: 0.6270 - lr: 7.8125e-05\n",
      "Epoch 30/50\n",
      "351/351 [==============================] - ETA: 0s - loss: 0.2078 - accuracy: 0.9304\n",
      "Epoch 30: ReduceLROnPlateau reducing learning rate to 3.9062499126885086e-05.\n",
      "351/351 [==============================] - 181s 516ms/step - loss: 0.2078 - accuracy: 0.9304 - val_loss: 1.3895 - val_accuracy: 0.6274 - lr: 7.8125e-05\n",
      "Epoch 31/50\n",
      "351/351 [==============================] - 181s 517ms/step - loss: 0.2073 - accuracy: 0.9308 - val_loss: 1.4198 - val_accuracy: 0.6158 - lr: 3.9062e-05\n",
      "Epoch 32/50\n",
      "351/351 [==============================] - ETA: 0s - loss: 0.2071 - accuracy: 0.9304\n",
      "Epoch 32: ReduceLROnPlateau reducing learning rate to 1.9531249563442543e-05.\n",
      "351/351 [==============================] - 181s 516ms/step - loss: 0.2071 - accuracy: 0.9304 - val_loss: 1.3865 - val_accuracy: 0.6254 - lr: 3.9062e-05\n",
      "Epoch 33/50\n",
      "351/351 [==============================] - 181s 514ms/step - loss: 0.2049 - accuracy: 0.9304 - val_loss: 1.3734 - val_accuracy: 0.6299 - lr: 1.9531e-05\n",
      "Epoch 34/50\n",
      "351/351 [==============================] - 181s 516ms/step - loss: 0.2016 - accuracy: 0.9303 - val_loss: 1.3807 - val_accuracy: 0.6313 - lr: 1.9531e-05\n",
      "Epoch 35/50\n",
      "351/351 [==============================] - 180s 511ms/step - loss: 0.1968 - accuracy: 0.9330 - val_loss: 1.3701 - val_accuracy: 0.6254 - lr: 1.9531e-05\n",
      "Epoch 36/50\n",
      "351/351 [==============================] - ETA: 0s - loss: 0.2028 - accuracy: 0.9303\n",
      "Epoch 36: ReduceLROnPlateau reducing learning rate to 1e-05.\n",
      "351/351 [==============================] - 185s 527ms/step - loss: 0.2028 - accuracy: 0.9303 - val_loss: 1.4198 - val_accuracy: 0.6175 - lr: 1.9531e-05\n",
      "Epoch 37/50\n",
      "351/351 [==============================] - 183s 520ms/step - loss: 0.2103 - accuracy: 0.9315 - val_loss: 1.3809 - val_accuracy: 0.6227 - lr: 1.0000e-05\n",
      "Epoch 38/50\n",
      "351/351 [==============================] - 182s 518ms/step - loss: 0.2057 - accuracy: 0.9291 - val_loss: 1.3926 - val_accuracy: 0.6220 - lr: 1.0000e-05\n",
      "Epoch 39/50\n",
      "351/351 [==============================] - 180s 514ms/step - loss: 0.2059 - accuracy: 0.9293 - val_loss: 1.3751 - val_accuracy: 0.6308 - lr: 1.0000e-05\n",
      "Epoch 40/50\n",
      "351/351 [==============================] - 180s 514ms/step - loss: 0.2061 - accuracy: 0.9324 - val_loss: 1.3986 - val_accuracy: 0.6238 - lr: 1.0000e-05\n",
      "Epoch 41/50\n",
      "351/351 [==============================] - 182s 518ms/step - loss: 0.2117 - accuracy: 0.9290 - val_loss: 1.3956 - val_accuracy: 0.6263 - lr: 1.0000e-05\n",
      "Epoch 42/50\n",
      "351/351 [==============================] - 179s 511ms/step - loss: 0.1979 - accuracy: 0.9345 - val_loss: 1.3924 - val_accuracy: 0.6234 - lr: 1.0000e-05\n",
      "Epoch 43/50\n",
      "351/351 [==============================] - 179s 508ms/step - loss: 0.2006 - accuracy: 0.9331 - val_loss: 1.4224 - val_accuracy: 0.6154 - lr: 1.0000e-05\n",
      "Epoch 44/50\n",
      "351/351 [==============================] - 180s 512ms/step - loss: 0.2009 - accuracy: 0.9313 - val_loss: 1.4104 - val_accuracy: 0.6159 - lr: 1.0000e-05\n",
      "Epoch 45/50\n",
      "351/351 [==============================] - 181s 516ms/step - loss: 0.2061 - accuracy: 0.9304 - val_loss: 1.3889 - val_accuracy: 0.6236 - lr: 1.0000e-05\n",
      "Epoch 46/50\n",
      "351/351 [==============================] - 181s 515ms/step - loss: 0.2005 - accuracy: 0.9344 - val_loss: 1.4164 - val_accuracy: 0.6186 - lr: 1.0000e-05\n",
      "Epoch 47/50\n",
      "351/351 [==============================] - 180s 512ms/step - loss: 0.2027 - accuracy: 0.9311 - val_loss: 1.3919 - val_accuracy: 0.6304 - lr: 1.0000e-05\n",
      "Epoch 48/50\n",
      "351/351 [==============================] - 180s 513ms/step - loss: 0.2036 - accuracy: 0.9306 - val_loss: 1.4397 - val_accuracy: 0.6220 - lr: 1.0000e-05\n",
      "Epoch 49/50\n",
      "351/351 [==============================] - 178s 507ms/step - loss: 0.2015 - accuracy: 0.9313 - val_loss: 1.4301 - val_accuracy: 0.6211 - lr: 1.0000e-05\n",
      "Epoch 50/50\n",
      "351/351 [==============================] - 179s 510ms/step - loss: 0.1979 - accuracy: 0.9347 - val_loss: 1.4196 - val_accuracy: 0.6275 - lr: 1.0000e-05\n"
     ]
    }
   ],
   "source": [
    "track=model.fit(\n",
    "    x_train,\n",
    "    steps_per_epoch=351,\n",
    "    epochs=50,\n",
    "    validation_data=x_test,\n",
    "    validation_steps=88,\n",
    "    initial_epoch=0,\n",
    "    # callbacks=[LearningRateScheduler(adjustLearningRate)]\n",
    "    callbacks=[learning_rate_reduction]\n",
    "    )"
   ]
  },
  {
   "cell_type": "code",
   "execution_count": null,
   "id": "bmnI7g6YTkns",
   "metadata": {
    "colab": {
     "base_uri": "https://localhost:8080/",
     "height": 573
    },
    "id": "bmnI7g6YTkns",
    "outputId": "ee799bcb-4224-44c0-af23-b6acfde0dd98"
   },
   "outputs": [
    {
     "data": {
      "image/png": "[encoded data removed]",
      "text/plain": [
       "<Figure size 432x288 with 1 Axes>"
      ]
     },
     "metadata": {
      "needs_background": "light"
     },
     "output_type": "display_data"
    },
    {
     "data": {
      "image/png": "[encoded data removed]",
      "text/plain": [
       "<Figure size 432x288 with 1 Axes>"
      ]
     },
     "metadata": {
      "needs_background": "light"
     },
     "output_type": "display_data"
    }
   ],
   "source": [
    "plt.figure(1)\n",
    "plt.plot([1+i for i in track.epoch],track.history['accuracy'])\n",
    "plt.plot([1+i for i in track.epoch],track.history['val_accuracy'])\n",
    "# plt.xlim((1,5))\n",
    "plt.title('model accuracy')\n",
    "plt.ylabel('accuracy')\n",
    "plt.xlabel('epoch')\n",
    "plt.legend(['train', 'validation'], loc='upper left')\n",
    "plt.show()\n",
    "\n",
    "plt.figure(2)\n",
    "plt.plot([1+i for i in track.epoch],track.history['loss'])\n",
    "plt.plot([1+i for i in track.epoch],track.history['val_loss'])\n",
    "# plt.xlim((1,5))\n",
    "plt.title('model loss')\n",
    "plt.ylabel('loss')\n",
    "plt.xlabel('epoch')\n",
    "plt.legend(['train', 'validation'], loc='upper left')\n",
    "plt.show()"
   ]
  },
  {
   "cell_type": "code",
   "execution_count": null,
   "id": "orjuI7M9Ziy2",
   "metadata": {
    "colab": {
     "base_uri": "https://localhost:8080/",
     "height": 607
    },
    "id": "orjuI7M9Ziy2",
    "outputId": "2eeb65e0-c183-41d5-9e82-42f88d0afa2a"
   },
   "outputs": [
    {
     "name": "stdout",
     "output_type": "stream",
     "text": [
      "88/88 [==============================] - 28s 318ms/step\n",
      "Classification Report\n",
      "              precision    recall  f1-score   support\n",
      "\n",
      "           A       0.03      0.03      0.03       270\n",
      "           B       0.08      0.13      0.10       419\n",
      "           C       0.14      0.13      0.13       710\n",
      "           D       0.10      0.08      0.09       643\n",
      "           E       0.09      0.07      0.08       509\n",
      "           F       0.18      0.13      0.15       969\n",
      "           G       0.17      0.16      0.16       908\n",
      "           H       0.09      0.14      0.11       527\n",
      "           I       0.13      0.15      0.14       643\n",
      "\n",
      "    accuracy                           0.12      5598\n",
      "   macro avg       0.11      0.11      0.11      5598\n",
      "weighted avg       0.13      0.12      0.12      5598\n",
      "\n"
     ]
    },
    {
     "data": {
      "image/png": "[encoded data removed]",
      "text/plain": [
       "<Figure size 432x288 with 2 Axes>"
      ]
     },
     "metadata": {
      "needs_background": "light"
     },
     "output_type": "display_data"
    }
   ],
   "source": [
    "y_pred = model.predict(x_test, x_test.samples // x_test.batch_size+1)\n",
    "y_pred = np.argmax(y_pred, axis=1)\n",
    "confmat=confusion_matrix(x_test.classes, y_pred)\n",
    "labels = ['A','B','C','D','E','F','G','H','I']\n",
    "classrep=classification_report(x_test.classes, y_pred, target_names=labels)\n",
    "print('Classification Report')\n",
    "print(classrep)\n",
    "confmat_show=ConfusionMatrixDisplay(confusion_matrix=confmat, display_labels=labels)\n",
    "confmat_show.plot(cmap=plt.cm.Blues)\n",
    "plt.show()"
   ]
  },
  {
   "cell_type": "code",
   "execution_count": null,
   "id": "6nnoVKqQ0YeQ",
   "metadata": {
    "id": "6nnoVKqQ0YeQ"
   },
   "outputs": [],
   "source": [
    "model.save(\"weight17.h5\")"
   ]
  },
  {
   "cell_type": "code",
   "execution_count": null,
   "id": "b66b2ce1",
   "metadata": {
    "id": "b66b2ce1"
   },
   "outputs": [],
   "source": []
  }
 ],
 "metadata": {
  "colab": {
   "provenance": []
  },
  "kernelspec": {
   "display_name": "Python 3 (ipykernel)",
   "language": "python",
   "name": "python3"
  },
  "language_info": {
   "codemirror_mode": {
    "name": "ipython",
    "version": 3
   },
   "file_extension": ".py",
   "mimetype": "text/x-python",
   "name": "python",
   "nbconvert_exporter": "python",
   "pygments_lexer": "ipython3",
   "version": "3.8.13"
  },
  "vscode": {
   "interpreter": {
    "hash": "94b06c7f1234a43955a0daeb3b41026d5f67c348d7d93406f6a02ba3227d6863"
   }
  }
 },
 "nbformat": 4,
 "nbformat_minor": 5
}
